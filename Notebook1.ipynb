{
 "cells": [
  {
   "cell_type": "markdown",
   "id": "65bcfa4f",
   "metadata": {},
   "source": [
    "#### SIADS 696 Milestone II"
   ]
  },
  {
   "cell_type": "code",
   "execution_count": 80,
   "id": "791853a0",
   "metadata": {},
   "outputs": [],
   "source": [
    "import pandas as pd\n",
    "import numpy as np\n",
    "from data_columns import childhood, demographic, diagnosis, all\n",
    "import seaborn as sns\n",
    "import matplotlib.pyplot as plt\n",
    "from sklearn.pipeline import Pipeline\n",
    "from sklearn.compose import ColumnTransformer\n",
    "from sklearn.preprocessing import StandardScaler, OneHotEncoder\n",
    "from sklearn.model_selection import train_test_split\n",
    "from sklearn.preprocessing import StandardScaler\n",
    "from sklearn.linear_model import LogisticRegression\n",
    "from sklearn.metrics import classification_report\n",
    "from sklearn.ensemble import RandomForestClassifier\n",
    "from sklearn.model_selection import cross_val_score\n",
    "from sklearn.naive_bayes import GaussianNB\n",
    "from imblearn.over_sampling import SMOTE\n",
    "from imblearn.under_sampling import RandomUnderSampler\n",
    "from imblearn.over_sampling import RandomOverSampler\n"
   ]
  },
  {
   "cell_type": "code",
   "execution_count": 81,
   "id": "ebee7d18",
   "metadata": {},
   "outputs": [
    {
     "data": {
      "text/plain": [
       "(5001, 1000)"
      ]
     },
     "execution_count": 81,
     "metadata": {},
     "output_type": "execute_result"
    }
   ],
   "source": [
    "init_df = pd.read_csv('./data/mental-health-comorbidity-raw.csv')\n",
    "init_df.shape"
   ]
  },
  {
   "cell_type": "code",
   "execution_count": 82,
   "id": "31e2d569",
   "metadata": {},
   "outputs": [
    {
     "data": {
      "text/plain": [
       "(5001, 122)"
      ]
     },
     "execution_count": 82,
     "metadata": {},
     "output_type": "execute_result"
    }
   ],
   "source": [
    "df = init_df[all()].copy()\n",
    "# df = df.replace(-9, np.nan)\n",
    "# df = df.dropna()\n",
    "df.shape"
   ]
  },
  {
   "cell_type": "code",
   "execution_count": 83,
   "id": "cec230cd",
   "metadata": {},
   "outputs": [],
   "source": [
    "columns2 = demographic() + childhood() + ['DSM_MJD']\n",
    "num_columns = [\"HHSIZE\",\"AGE\"] + [\"CH13\",\"CH14\",\"CH16\",\"CH21\",\"CH22\",\"CH24\",\"CH38\",\"CH43\",\"CH45\"]\n",
    "child_df = df[columns2].copy()\n",
    "\n",
    "child_df = child_df.replace(-9, np.nan)\n",
    "child_df = child_df.dropna()\n",
    "\n",
    "cat_columns = [col for col in child_df.columns if col not in num_columns]\n",
    "child_df[cat_columns] = child_df[cat_columns].astype('category')\n",
    "df[num_columns] = df[num_columns].astype(int)\n"
   ]
  },
  {
   "cell_type": "code",
   "execution_count": 84,
   "id": "285a5bea",
   "metadata": {},
   "outputs": [
    {
     "name": "stdout",
     "output_type": "stream",
     "text": [
      "              precision    recall  f1-score   support\n",
      "\n",
      "           1       0.30      0.34      0.32       197\n",
      "           5       0.83      0.81      0.82       795\n",
      "\n",
      "    accuracy                           0.71       992\n",
      "   macro avg       0.57      0.57      0.57       992\n",
      "weighted avg       0.72      0.71      0.72       992\n",
      "\n"
     ]
    }
   ],
   "source": [
    "X = child_df.drop(columns=['DSM_MJD'])\n",
    "y = child_df['DSM_MJD']\n",
    "\n",
    "scaler = StandardScaler()\n",
    "X_scaled = scaler.fit_transform(X)\n",
    "X_train, X_test, y_train, y_test = train_test_split(X_scaled, y, test_size=0.2, random_state=42)\n",
    "\n",
    "model = GaussianNB()\n",
    "model.fit(X_train, y_train)\n",
    "\n",
    "y_pred = model.predict(X_test)\n",
    "print(classification_report(y_test, y_pred))"
   ]
  },
  {
   "cell_type": "code",
   "execution_count": 85,
   "id": "03318264",
   "metadata": {},
   "outputs": [],
   "source": [
    "cat_columns = [col for col in cat_columns if col != 'DSM_MJD']\n",
    "\n",
    "preprocessor = ColumnTransformer([\n",
    "    (\"num\", StandardScaler(), num_columns),\n",
    "    (\"cat\", OneHotEncoder(handle_unknown=\"ignore\", sparse_output=False), cat_columns)\n",
    "])\n",
    "\n",
    "pipeline = Pipeline(steps=[\n",
    "    (\"preprocessor\", preprocessor),\n",
    "    (\"classifier\", RandomForestClassifier())\n",
    "])\n"
   ]
  },
  {
   "cell_type": "code",
   "execution_count": 86,
   "id": "db27873d",
   "metadata": {},
   "outputs": [],
   "source": [
    "X_train, X_test, y_train, y_test = train_test_split(X, y, test_size=0.2, random_state=42)"
   ]
  },
  {
   "cell_type": "code",
   "execution_count": 87,
   "id": "48b2e7e4",
   "metadata": {},
   "outputs": [
    {
     "name": "stdout",
     "output_type": "stream",
     "text": [
      "              precision    recall  f1-score   support\n",
      "\n",
      "           1       0.43      0.02      0.03       197\n",
      "           5       0.80      0.99      0.89       795\n",
      "\n",
      "    accuracy                           0.80       992\n",
      "   macro avg       0.62      0.51      0.46       992\n",
      "weighted avg       0.73      0.80      0.72       992\n",
      "\n"
     ]
    }
   ],
   "source": [
    "pipeline.fit(X_train, y_train)\n",
    "y_pred = pipeline.predict(X_test)\n",
    "\n",
    "print(classification_report(y_test, y_pred))"
   ]
  },
  {
   "cell_type": "code",
   "execution_count": 88,
   "id": "8425ddca",
   "metadata": {},
   "outputs": [
    {
     "name": "stdout",
     "output_type": "stream",
     "text": [
      "              precision    recall  f1-score   support\n",
      "\n",
      "           1       0.28      0.62      0.38       197\n",
      "           5       0.86      0.60      0.71       795\n",
      "\n",
      "    accuracy                           0.61       992\n",
      "   macro avg       0.57      0.61      0.55       992\n",
      "weighted avg       0.75      0.61      0.65       992\n",
      "\n"
     ]
    }
   ],
   "source": [
    "u_smpl = RandomUnderSampler(random_state = 42) \n",
    "\n",
    "X_u_smpl, y_u_smpl = u_smpl.fit_resample(X_train,y_train)\n",
    "\n",
    "pipeline.fit(X_u_smpl, y_u_smpl)\n",
    "y_pred = pipeline.predict(X_test)\n",
    "\n",
    "print(classification_report(y_test, y_pred))\n"
   ]
  },
  {
   "cell_type": "code",
   "execution_count": 89,
   "id": "dd03796d",
   "metadata": {},
   "outputs": [
    {
     "name": "stdout",
     "output_type": "stream",
     "text": [
      "Cross-validated scores: [0.58490566 0.66875    0.59627329 0.64848485 0.66066066]\n",
      "Mean accuracy: 0.6318148922896667\n"
     ]
    }
   ],
   "source": [
    "scores = cross_val_score(pipeline, X_u_smpl, y_u_smpl, cv=5,scoring=\"f1\") \n",
    "print(\"Cross-validated scores:\", scores)\n",
    "print(\"Mean accuracy:\", scores.mean())"
   ]
  },
  {
   "cell_type": "code",
   "execution_count": 90,
   "id": "e7707de8",
   "metadata": {},
   "outputs": [
    {
     "data": {
      "text/plain": [
       "<Axes: xlabel='DSM_MJD'>"
      ]
     },
     "execution_count": 90,
     "metadata": {},
     "output_type": "execute_result"
    },
    {
     "data": {
      "image/png": "[encoded data removed]",
      "text/plain": [
       "<Figure size 640x480 with 1 Axes>"
      ]
     },
     "metadata": {},
     "output_type": "display_data"
    }
   ],
   "source": [
    "o_smpl = RandomOverSampler(random_state = 42) \n",
    "X_o_smpl, y_o_smpl = o_smpl.fit_resample(X_train,y_train)\n",
    "y_o_smpl.value_counts().plot.bar()"
   ]
  },
  {
   "cell_type": "code",
   "execution_count": 91,
   "id": "0e4fd66a",
   "metadata": {},
   "outputs": [
    {
     "name": "stdout",
     "output_type": "stream",
     "text": [
      "              precision    recall  f1-score   support\n",
      "\n",
      "           1       0.38      0.05      0.09       197\n",
      "           5       0.81      0.98      0.88       795\n",
      "\n",
      "    accuracy                           0.80       992\n",
      "   macro avg       0.60      0.52      0.49       992\n",
      "weighted avg       0.72      0.80      0.73       992\n",
      "\n"
     ]
    }
   ],
   "source": [
    "pipeline.fit(X_o_smpl, y_o_smpl)\n",
    "y_pred = pipeline.predict(X_test)\n",
    "\n",
    "print(classification_report(y_test, y_pred))"
   ]
  },
  {
   "cell_type": "code",
   "execution_count": 92,
   "id": "49a2285b",
   "metadata": {},
   "outputs": [
    {
     "name": "stdout",
     "output_type": "stream",
     "text": [
      "Cross-validated scores: [0.95207668 0.95461659 0.97918273 0.98299845 0.97546012]\n",
      "Mean accuracy: 0.9688669144431028\n"
     ]
    }
   ],
   "source": [
    "\n",
    "scores = cross_val_score(pipeline, X_o_smpl, y_o_smpl, cv=5,scoring=\"f1\") \n",
    "print(\"Cross-validated scores:\", scores)\n",
    "print(\"Mean accuracy:\", scores.mean())"
   ]
  },
  {
   "cell_type": "code",
   "execution_count": 93,
   "id": "89a097c4",
   "metadata": {},
   "outputs": [
    {
     "data": {
      "text/plain": [
       "<Axes: xlabel='DSM_MJD'>"
      ]
     },
     "execution_count": 93,
     "metadata": {},
     "output_type": "execute_result"
    },
    {
     "data": {
      "image/png": "[encoded data removed]",
      "text/plain": [
       "<Figure size 640x480 with 1 Axes>"
      ]
     },
     "metadata": {},
     "output_type": "display_data"
    }
   ],
   "source": [
    "smote = SMOTE(random_state = 42) \n",
    "X_smote, y_smote = smote.fit_resample(X_train,y_train)\n",
    "\n",
    "y_smote.value_counts().plot.bar()"
   ]
  },
  {
   "cell_type": "code",
   "execution_count": 94,
   "id": "f25360cb",
   "metadata": {},
   "outputs": [
    {
     "name": "stdout",
     "output_type": "stream",
     "text": [
      "              precision    recall  f1-score   support\n",
      "\n",
      "           1       0.75      0.02      0.03       197\n",
      "           5       0.80      1.00      0.89       795\n",
      "\n",
      "    accuracy                           0.80       992\n",
      "   macro avg       0.78      0.51      0.46       992\n",
      "weighted avg       0.79      0.80      0.72       992\n",
      "\n"
     ]
    }
   ],
   "source": [
    "pipeline.fit(X_smote, y_smote)\n",
    "y_pred = pipeline.predict(X_test)\n",
    "\n",
    "print(classification_report(y_test, y_pred))"
   ]
  },
  {
   "cell_type": "code",
   "execution_count": 95,
   "id": "6081c088",
   "metadata": {},
   "outputs": [
    {
     "name": "stdout",
     "output_type": "stream",
     "text": [
      "Cross-validated scores: [0.         0.86298932 0.9945184  0.99608457 0.99297424]\n",
      "Mean accuracy: 0.7693133076887297\n"
     ]
    }
   ],
   "source": [
    "scores = cross_val_score(pipeline, X_smote, y_smote, cv=5,scoring=\"f1\") \n",
    "print(\"Cross-validated scores:\", scores)\n",
    "print(\"Mean accuracy:\", scores.mean())"
   ]
  },
  {
   "cell_type": "code",
   "execution_count": 96,
   "id": "1f730033",
   "metadata": {},
   "outputs": [
    {
     "name": "stdout",
     "output_type": "stream",
     "text": [
      "              precision    recall  f1-score   support\n",
      "\n",
      "           1       0.83      0.03      0.05       197\n",
      "           5       0.81      1.00      0.89       795\n",
      "\n",
      "    accuracy                           0.81       992\n",
      "   macro avg       0.82      0.51      0.47       992\n",
      "weighted avg       0.81      0.81      0.72       992\n",
      "\n"
     ]
    }
   ],
   "source": [
    "from imblearn.over_sampling import BorderlineSMOTE\n",
    "\n",
    "bsmote = BorderlineSMOTE(random_state = 42) \n",
    "\n",
    "X_bsmote, y_bsmote = bsmote.fit_resample(X_train,y_train)\n",
    "pipeline.fit(X_bsmote, y_bsmote)\n",
    "y_pred = pipeline.predict(X_test)\n",
    "\n",
    "print(classification_report(y_test, y_pred))"
   ]
  }
 ],
 "metadata": {
  "kernelspec": {
   "display_name": ".venv",
   "language": "python",
   "name": "python3"
  },
  "language_info": {
   "codemirror_mode": {
    "name": "ipython",
    "version": 3
   },
   "file_extension": ".py",
   "mimetype": "text/x-python",
   "name": "python",
   "nbconvert_exporter": "python",
   "pygments_lexer": "ipython3",
   "version": "3.13.3"
  }
 },
 "nbformat": 4,
 "nbformat_minor": 5
}
