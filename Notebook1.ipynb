{
 "cells": [
  {
   "cell_type": "markdown",
   "id": "65bcfa4f",
   "metadata": {},
   "source": [
    "#### SIADS 696 Milestone II"
   ]
  },
  {
   "cell_type": "code",
   "execution_count": 184,
   "id": "791853a0",
   "metadata": {},
   "outputs": [],
   "source": [
    "import pandas as pd\n",
    "import numpy as np\n",
    "from data_columns import childhood, demographic, diagnosis, all\n",
    "import seaborn as sns\n",
    "import matplotlib.pyplot as plt\n",
    "from imblearn.pipeline import Pipeline\n",
    "from sklearn.compose import ColumnTransformer\n",
    "from sklearn.preprocessing import StandardScaler, OneHotEncoder\n",
    "from sklearn.model_selection import train_test_split\n",
    "from sklearn.preprocessing import StandardScaler\n",
    "from sklearn.linear_model import LogisticRegression\n",
    "from sklearn.metrics import classification_report\n",
    "from sklearn.ensemble import RandomForestClassifier\n",
    "from sklearn.model_selection import cross_val_score, StratifiedKFold\n",
    "from sklearn.naive_bayes import GaussianNB\n",
    "from imblearn.over_sampling import SMOTE\n",
    "from imblearn.under_sampling import RandomUnderSampler\n",
    "from imblearn.over_sampling import RandomOverSampler\n",
    "import warnings\n",
    "warnings.filterwarnings(\"ignore\")\n"
   ]
  },
  {
   "cell_type": "code",
   "execution_count": 157,
   "id": "ebee7d18",
   "metadata": {},
   "outputs": [
    {
     "data": {
      "text/plain": [
       "(5001, 1000)"
      ]
     },
     "execution_count": 157,
     "metadata": {},
     "output_type": "execute_result"
    }
   ],
   "source": [
    "init_df = pd.read_csv('./data/mental-health-comorbidity-raw.csv')\n",
    "init_df.shape"
   ]
  },
  {
   "cell_type": "code",
   "execution_count": 158,
   "id": "31e2d569",
   "metadata": {},
   "outputs": [
    {
     "data": {
      "text/plain": [
       "(5001, 122)"
      ]
     },
     "execution_count": 158,
     "metadata": {},
     "output_type": "execute_result"
    }
   ],
   "source": [
    "df = init_df[all()].copy()\n",
    "# df = df.replace(-9, np.nan)\n",
    "# df = df.dropna()\n",
    "df.shape"
   ]
  },
  {
   "cell_type": "code",
   "execution_count": 159,
   "id": "cec230cd",
   "metadata": {},
   "outputs": [],
   "source": [
    "columns2 = demographic() + childhood() + ['DSM_MJD']\n",
    "num_columns = [\"HHSIZE\",\"AGE\"] + [\"CH13\",\"CH14\",\"CH16\",\"CH21\",\"CH22\",\"CH24\",\"CH38\",\"CH43\",\"CH45\"]\n",
    "child_df = df[columns2].copy()\n",
    "\n",
    "child_df = child_df.replace(-9, np.nan)\n",
    "child_df = child_df.dropna()\n",
    "\n",
    "cat_columns = [col for col in child_df.columns if col not in num_columns]\n",
    "child_df[cat_columns] = child_df[cat_columns].astype('category')\n",
    "df[num_columns] = df[num_columns].astype(int)\n"
   ]
  },
  {
   "cell_type": "code",
   "execution_count": 176,
   "id": "285a5bea",
   "metadata": {},
   "outputs": [
    {
     "name": "stdout",
     "output_type": "stream",
     "text": [
      "              precision    recall  f1-score   support\n",
      "\n",
      "           1       0.30      0.34      0.32       197\n",
      "           5       0.83      0.81      0.82       795\n",
      "\n",
      "    accuracy                           0.71       992\n",
      "   macro avg       0.57      0.57      0.57       992\n",
      "weighted avg       0.72      0.71      0.72       992\n",
      "\n"
     ]
    }
   ],
   "source": [
    "X = child_df.drop(columns=['DSM_MJD'])\n",
    "y = child_df['DSM_MJD']\n",
    "\n",
    "scaler = StandardScaler()\n",
    "X_scaled = scaler.fit_transform(X)\n",
    "X_train, X_test, y_train, y_test = train_test_split(X_scaled, y, test_size=0.2, random_state=42)\n",
    "\n",
    "model = GaussianNB()\n",
    "model.fit(X_train, y_train)\n",
    "\n",
    "y_pred = model.predict(X_test)\n",
    "print(classification_report(y_test, y_pred))"
   ]
  },
  {
   "cell_type": "code",
   "execution_count": null,
   "id": "03318264",
   "metadata": {},
   "outputs": [
    {
     "name": "stdout",
     "output_type": "stream",
     "text": [
      "Cross-val F1 scores: [0.4887652  0.48465926 0.49950046 0.48463414 0.53273278]\n",
      "Mean F1 score: 0.49805836775524065\n"
     ]
    }
   ],
   "source": [
    "cat_columns = [col for col in cat_columns if col != 'DSM_MJD']\n",
    "\n",
    "preprocessor = ColumnTransformer([\n",
    "    (\"num\", StandardScaler(), num_columns),\n",
    "    (\"cat\", OneHotEncoder(handle_unknown=\"ignore\", sparse_output=False), cat_columns)\n",
    "])\n",
    "\n",
    "pipeline = Pipeline(steps=[\n",
    "    (\"preprocessor\", preprocessor),\n",
    "    (\"sampler\", RandomOverSampler(random_state=42)),\n",
    "    # (\"classifier\", RandomForestClassifier(random_state=42))\n",
    "    (\"classifier\", LogisticRegression(solver=\"saga\", max_iter=500))\n",
    "])\n",
    "\n",
    "cv = StratifiedKFold(n_splits=5, shuffle=True, random_state=42)\n",
    "scores = cross_val_score(pipeline, X, y, cv=cv, scoring=\"f1_macro\")\n",
    "print(\"Cross-val F1 scores:\", scores)\n",
    "print(\"Mean F1 score:\", scores.mean())"
   ]
  }
 ],
 "metadata": {
  "kernelspec": {
   "display_name": ".venv",
   "language": "python",
   "name": "python3"
  },
  "language_info": {
   "codemirror_mode": {
    "name": "ipython",
    "version": 3
   },
   "file_extension": ".py",
   "mimetype": "text/x-python",
   "name": "python",
   "nbconvert_exporter": "python",
   "pygments_lexer": "ipython3",
   "version": "3.13.3"
  }
 },
 "nbformat": 4,
 "nbformat_minor": 5
}
