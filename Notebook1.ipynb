{
 "cells": [
  {
   "cell_type": "markdown",
   "id": "65bcfa4f",
   "metadata": {},
   "source": [
    "#### SIADS 696 Milestone II"
   ]
  },
  {
   "cell_type": "code",
   "execution_count": null,
   "id": "791853a0",
   "metadata": {},
   "outputs": [],
   "source": [
    "import pandas as pd\n",
    "from data_columns import childhood, demographic, diagnosis\n"
   ]
  },
  {
   "cell_type": "code",
   "execution_count": 12,
   "id": "ebee7d18",
   "metadata": {},
   "outputs": [
    {
     "data": {
      "text/plain": [
       "(5001, 1000)"
      ]
     },
     "execution_count": 12,
     "metadata": {},
     "output_type": "execute_result"
    }
   ],
   "source": [
    "df = pd.read_csv('./data/mental_health_dataframe.csv')\n",
    "df.shape"
   ]
  }
 ],
 "metadata": {
  "kernelspec": {
   "display_name": ".venv",
   "language": "python",
   "name": "python3"
  },
  "language_info": {
   "codemirror_mode": {
    "name": "ipython",
    "version": 3
   },
   "file_extension": ".py",
   "mimetype": "text/x-python",
   "name": "python",
   "nbconvert_exporter": "python",
   "pygments_lexer": "ipython3",
   "version": "3.13.3"
  }
 },
 "nbformat": 4,
 "nbformat_minor": 5
}
