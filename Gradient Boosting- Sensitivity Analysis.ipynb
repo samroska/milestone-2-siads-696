{
 "cells": [
  {
   "cell_type": "code",
   "execution_count": 12,
   "id": "2407ed12",
   "metadata": {},
   "outputs": [],
   "source": [
    "##This notebook was created with the help of ChatGPT\n",
    "import pandas as pd\n",
    "from sklearn.model_selection import train_test_split, GridSearchCV, cross_val_score\n",
    "from sklearn.ensemble import GradientBoostingClassifier\n",
    "from sklearn.metrics import classification_report, roc_auc_score\n",
    "import numpy as np"
   ]
  },
  {
   "cell_type": "code",
   "execution_count": 13,
   "id": "ac2b500a",
   "metadata": {},
   "outputs": [],
   "source": [
    "# Load dataset\n",
    "filtered_df = pd.read_csv('filtered_mental_health_data.csv')"
   ]
  },
  {
   "cell_type": "code",
   "execution_count": 14,
   "id": "50d53e61",
   "metadata": {},
   "outputs": [],
   "source": [
    "# Prepare original dataset\n",
    "feature_columns = [col for col in filtered_df.columns if not col.startswith('DSM')]\n",
    "X = filtered_df[feature_columns]\n",
    "y = filtered_df['DSM_MJD'].apply(lambda x: 1 if x == 1 else 0)"
   ]
  },
  {
   "cell_type": "code",
   "execution_count": 15,
   "id": "575c3191",
   "metadata": {},
   "outputs": [],
   "source": [
    "# Drop \"PH4\" \n",
    "X = X.drop(columns=['PH4'])"
   ]
  },
  {
   "cell_type": "code",
   "execution_count": 16,
   "id": "5974bb8a",
   "metadata": {},
   "outputs": [],
   "source": [
    "# Train-test split\n",
    "X_train, X_test, y_train, y_test = train_test_split(\n",
    "    X, y, test_size=0.2, random_state=42)"
   ]
  },
  {
   "cell_type": "code",
   "execution_count": 17,
   "id": "82f7f1c3",
   "metadata": {},
   "outputs": [],
   "source": [
    "#Hyperparameter Tuning\n",
    "param_grid = {\n",
    "    'n_estimators': [100],\n",
    "    'learning_rate': [0.1],\n",
    "    'max_depth': [3]\n",
    "}\n",
    "\n",
    "grid_search = GridSearchCV(\n",
    "    GradientBoostingClassifier(random_state=42),\n",
    "    param_grid=param_grid,\n",
    "    cv=5,\n",
    "    scoring='roc_auc',\n",
    "    n_jobs=-1,\n",
    "    verbose=1\n",
    ")"
   ]
  },
  {
   "cell_type": "code",
   "execution_count": 18,
   "id": "4c880dc9",
   "metadata": {},
   "outputs": [
    {
     "name": "stdout",
     "output_type": "stream",
     "text": [
      "Fitting 5 folds for each of 1 candidates, totalling 5 fits\n",
      "\n",
      "Best Hyperparameters (without 'PD4'): {'learning_rate': 0.1, 'max_depth': 3, 'n_estimators': 100}\n",
      "Best CV ROC-AUC Score (without 'PD4'): 0.789646802240014\n"
     ]
    }
   ],
   "source": [
    "#Fit the model\n",
    "grid_search.fit(X_train, y_train)\n",
    "print(\"\\nBest Hyperparameters (without 'PD4'):\", grid_search.best_params_)\n",
    "print(\"Best CV ROC-AUC Score (without 'PD4'):\", grid_search.best_score_)"
   ]
  },
  {
   "cell_type": "code",
   "execution_count": 19,
   "id": "258b1731",
   "metadata": {},
   "outputs": [],
   "source": [
    "# Evaluate on test set\n",
    "y_pred = grid_search.predict(X_test)\n",
    "y_pred_proba = grid_search.predict_proba(X_test)[:, 1]"
   ]
  },
  {
   "cell_type": "code",
   "execution_count": 20,
   "id": "80319075",
   "metadata": {},
   "outputs": [
    {
     "name": "stdout",
     "output_type": "stream",
     "text": [
      "\n",
      "Classification Report (without 'PD4'):\n",
      "               precision    recall  f1-score   support\n",
      "\n",
      "           0       0.84      0.95      0.89       802\n",
      "           1       0.56      0.25      0.35       199\n",
      "\n",
      "    accuracy                           0.81      1001\n",
      "   macro avg       0.70      0.60      0.62      1001\n",
      "weighted avg       0.78      0.81      0.78      1001\n",
      "\n",
      "Test ROC-AUC (without 'PD4'): 0.7529 ± 0.0503\n",
      "Test Accuracy (without 'PD4'): 0.7912 ± 0.0185\n"
     ]
    }
   ],
   "source": [
    "#Metrics\n",
    "roc_auc_scores = cross_val_score(\n",
    "    grid_search.best_estimator_, X_test, y_test, cv=5, scoring='roc_auc')\n",
    "\n",
    "accuracy_scores = cross_val_score(\n",
    "    grid_search.best_estimator_, X_test, y_test, cv=5, scoring='accuracy')\n",
    "\n",
    "# Compute mean and standard deviation\n",
    "roc_auc_mean = np.mean(roc_auc_scores)\n",
    "roc_auc_std = np.std(roc_auc_scores)\n",
    "accuracy_mean = np.mean(accuracy_scores)\n",
    "accuracy_std = np.std(accuracy_scores)\n",
    "\n",
    "# Print classification report and metrics with standard deviation\n",
    "print(\"\\nClassification Report (without 'PD4'):\\n\", classification_report(y_test, y_pred))\n",
    "print(f\"Test ROC-AUC (without 'PD4'): {roc_auc_mean:.4f} ± {roc_auc_std:.4f}\")\n",
    "print(f\"Test Accuracy (without 'PD4'): {accuracy_mean:.4f} ± {accuracy_std:.4f}\")\n"
   ]
  },
  {
   "cell_type": "code",
   "execution_count": null,
   "id": "ad51bc17",
   "metadata": {},
   "outputs": [],
   "source": []
  }
 ],
 "metadata": {
  "kernelspec": {
   "display_name": "Python 3 (ipykernel)",
   "language": "python",
   "name": "python3"
  },
  "language_info": {
   "codemirror_mode": {
    "name": "ipython",
    "version": 3
   },
   "file_extension": ".py",
   "mimetype": "text/x-python",
   "name": "python",
   "nbconvert_exporter": "python",
   "pygments_lexer": "ipython3",
   "version": "3.9.7"
  }
 },
 "nbformat": 4,
 "nbformat_minor": 5
}
