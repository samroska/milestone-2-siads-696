{
 "cells": [
  {
   "cell_type": "code",
   "execution_count": 1,
   "id": "13094f4f",
   "metadata": {},
   "outputs": [],
   "source": [
    "#This notebook was created with the help of ChatGPT\n",
    "import pandas as pd\n",
    "from sklearn.model_selection import train_test_split, GridSearchCV\n",
    "from sklearn.ensemble import RandomForestClassifier\n",
    "from sklearn.metrics import classification_report, roc_auc_score\n",
    "from sklearn.model_selection import cross_val_score\n",
    "import numpy as np\n"
   ]
  },
  {
   "cell_type": "code",
   "execution_count": 2,
   "id": "37e7e3e0",
   "metadata": {},
   "outputs": [],
   "source": [
    "# Load dataset\n",
    "filtered_df = pd.read_csv('filtered_mental_health_data.csv')"
   ]
  },
  {
   "cell_type": "code",
   "execution_count": 3,
   "id": "4c9de2ca",
   "metadata": {},
   "outputs": [],
   "source": [
    "# Prepare dataset\n",
    "feature_columns = [col for col in filtered_df.columns if not col.startswith('DSM')]\n",
    "X = filtered_df[feature_columns]\n",
    "y = filtered_df['DSM_MJD'].apply(lambda x: 1 if x == 1 else 0)"
   ]
  },
  {
   "cell_type": "code",
   "execution_count": 4,
   "id": "be3627c3",
   "metadata": {},
   "outputs": [],
   "source": [
    "# Train-test split\n",
    "X_train, X_test, y_train, y_test = train_test_split(\n",
    "    X, y, test_size=0.2, random_state=42)\n"
   ]
  },
  {
   "cell_type": "code",
   "execution_count": 5,
   "id": "b28c8646",
   "metadata": {},
   "outputs": [],
   "source": [
    "#hyperparameter tuning\n",
    "param_grid = {\n",
    "    'n_estimators': [50, 100, 200],\n",
    "    'max_depth': [None, 10, 20],\n",
    "    'min_samples_split': [2, 5, 10]\n",
    "}\n",
    "\n",
    "grid_search = GridSearchCV(\n",
    "    RandomForestClassifier(random_state=42),\n",
    "    param_grid=param_grid,\n",
    "    cv=5,\n",
    "    scoring='roc_auc',\n",
    "    n_jobs=-1,\n",
    "    verbose=1\n",
    ")"
   ]
  },
  {
   "cell_type": "code",
   "execution_count": 6,
   "id": "06066d73",
   "metadata": {},
   "outputs": [
    {
     "name": "stdout",
     "output_type": "stream",
     "text": [
      "Fitting 5 folds for each of 27 candidates, totalling 135 fits\n",
      "Best Hyperparameters: {'max_depth': 10, 'min_samples_split': 10, 'n_estimators': 200}\n",
      "Best CV ROC-AUC Score: 0.7775014364769756\n"
     ]
    }
   ],
   "source": [
    "# Fit the model\n",
    "grid_search.fit(X_train, y_train)\n",
    "\n",
    "print(\"Best Hyperparameters:\", grid_search.best_params_)\n",
    "print(\"Best CV ROC-AUC Score:\", grid_search.best_score_)"
   ]
  },
  {
   "cell_type": "code",
   "execution_count": 7,
   "id": "61556ffb",
   "metadata": {},
   "outputs": [],
   "source": [
    "# Evaluate on test set\n",
    "y_pred = grid_search.predict(X_test)\n",
    "y_pred_proba = grid_search.predict_proba(X_test)[:, 1]"
   ]
  },
  {
   "cell_type": "code",
   "execution_count": 8,
   "id": "1e37142c",
   "metadata": {},
   "outputs": [
    {
     "name": "stdout",
     "output_type": "stream",
     "text": [
      "\n",
      "Classification Report:\n",
      "               precision    recall  f1-score   support\n",
      "\n",
      "           0       0.82      0.98      0.89       802\n",
      "           1       0.60      0.13      0.21       199\n",
      "\n",
      "    accuracy                           0.81      1001\n",
      "   macro avg       0.71      0.55      0.55      1001\n",
      "weighted avg       0.78      0.81      0.76      1001\n",
      "\n",
      "Test ROC-AUC: 0.7633 ± 0.0288\n",
      "Test Accuracy: 0.8062 ± 0.0127\n"
     ]
    }
   ],
   "source": [
    "# Metrics\n",
    "roc_auc_scores = cross_val_score(\n",
    "    grid_search.best_estimator_, X_test, y_test,\n",
    "    cv=5, scoring='roc_auc'\n",
    ")\n",
    "\n",
    "accuracy_scores = cross_val_score(\n",
    "    grid_search.best_estimator_, X_test, y_test,\n",
    "    cv=5, scoring='accuracy'\n",
    ")\n",
    "\n",
    "\n",
    "roc_auc_mean = np.mean(roc_auc_scores)\n",
    "roc_auc_std = np.std(roc_auc_scores)\n",
    "\n",
    "accuracy_mean = np.mean(accuracy_scores)\n",
    "accuracy_std = np.std(accuracy_scores)\n",
    "\n",
    "\n",
    "print(\"\\nClassification Report:\\n\", classification_report(y_test, y_pred))\n",
    "\n",
    "print(f\"Test ROC-AUC: {roc_auc_mean:.4f} ± {roc_auc_std:.4f}\")\n",
    "print(f\"Test Accuracy: {accuracy_mean:.4f} ± {accuracy_std:.4f}\")"
   ]
  }
 ],
 "metadata": {
  "kernelspec": {
   "display_name": "Python 3 (ipykernel)",
   "language": "python",
   "name": "python3"
  },
  "language_info": {
   "codemirror_mode": {
    "name": "ipython",
    "version": 3
   },
   "file_extension": ".py",
   "mimetype": "text/x-python",
   "name": "python",
   "nbconvert_exporter": "python",
   "pygments_lexer": "ipython3",
   "version": "3.9.7"
  }
 },
 "nbformat": 4,
 "nbformat_minor": 5
}
