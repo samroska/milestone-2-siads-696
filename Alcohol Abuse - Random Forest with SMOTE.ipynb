{
 "cells": [
  {
   "cell_type": "code",
   "execution_count": 5,
   "id": "622fbc4d",
   "metadata": {},
   "outputs": [
    {
     "name": "stderr",
     "output_type": "stream",
     "text": [
      "C:\\Users\\TomH\\Anaconda3\\lib\\site-packages\\sklearn\\base.py:474: FutureWarning: `BaseEstimator._validate_data` is deprecated in 1.6 and will be removed in 1.7. Use `sklearn.utils.validation.validate_data` instead. This function becomes public and is part of the scikit-learn developer API.\n",
      "  warnings.warn(\n"
     ]
    },
    {
     "name": "stdout",
     "output_type": "stream",
     "text": [
      "Fitting 5 folds for each of 8 candidates, totalling 40 fits\n",
      "Classification Report:\n",
      "              precision    recall  f1-score   support\n",
      "\n",
      "           0       0.82      0.85      0.83       758\n",
      "           1       0.46      0.40      0.43       243\n",
      "\n",
      "    accuracy                           0.74      1001\n",
      "   macro avg       0.64      0.63      0.63      1001\n",
      "weighted avg       0.73      0.74      0.73      1001\n",
      "\n",
      "ROC AUC: 0.7008805932875122\n"
     ]
    },
    {
     "data": {
      "image/png": "[encoded data removed]",
      "text/plain": [
       "<Figure size 432x288 with 1 Axes>"
      ]
     },
     "metadata": {
      "needs_background": "light"
     },
     "output_type": "display_data"
    }
   ],
   "source": [
    "from sklearn.ensemble import RandomForestClassifier\n",
    "from sklearn.model_selection import train_test_split, GridSearchCV\n",
    "from sklearn.impute import SimpleImputer\n",
    "from sklearn.metrics import classification_report, confusion_matrix, roc_auc_score\n",
    "from imblearn.over_sampling import SMOTE\n",
    "import pandas as pd\n",
    "import numpy as np\n",
    "import matplotlib.pyplot as plt\n",
    "import seaborn as sns\n",
    "\n",
    "# Load and filter data\n",
    "df = pd.read_csv(\"35067-0001-Data.tsv\", sep='\\t')\n",
    "df = df[df[\"DSM_ALA\"].isin([1, 5])].copy()\n",
    "df[\"DSM_ALA_BINARY\"] = df[\"DSM_ALA\"].replace({5: 0, 1: 1})\n",
    "\n",
    "# Select features\n",
    "prefixes = ['CH', 'DA', 'DE']\n",
    "demographic_cols = ['AGE', 'SEX', 'MARITAL', 'EDUC', 'EMPSTAT', 'INCOME']\n",
    "core_features = [col for col in df.columns if any(col.startswith(p) for p in prefixes)]\n",
    "available_demos = [col for col in demographic_cols if col in df.columns]\n",
    "features = core_features + available_demos\n",
    "\n",
    "X = df[features]\n",
    "y = df[\"DSM_ALA_BINARY\"]\n",
    "\n",
    "# Impute missing values\n",
    "X_imputed = pd.DataFrame(SimpleImputer(strategy=\"most_frequent\").fit_transform(X), columns=X.columns)\n",
    "\n",
    "# Train/test split\n",
    "X_train, X_test, y_train, y_test = train_test_split(X_imputed, y, test_size=0.2, stratify=y, random_state=42)\n",
    "\n",
    "# SMOTE oversampling\n",
    "smote = SMOTE(random_state=42)\n",
    "X_bal, y_bal = smote.fit_resample(X_train, y_train)\n",
    "\n",
    "# Grid search on Random Forest\n",
    "param_grid = {\n",
    "    'n_estimators': [100, 200],\n",
    "    'max_depth': [5, 10],\n",
    "    'min_samples_split': [2, 5]\n",
    "}\n",
    "rf = RandomForestClassifier(random_state=42)\n",
    "grid = GridSearchCV(rf, param_grid, cv=5, scoring='f1', n_jobs=-1, verbose=2)\n",
    "grid.fit(X_bal, y_bal)\n",
    "\n",
    "# Evaluate best model\n",
    "best_model = grid.best_estimator_\n",
    "y_pred = best_model.predict(X_test)\n",
    "roc_auc = roc_auc_score(y_test, best_model.predict_proba(X_test)[:, 1])\n",
    "conf_matrix = confusion_matrix(y_test, y_pred)\n",
    "\n",
    "print(\"Classification Report:\")\n",
    "print(classification_report(y_test, y_pred))\n",
    "print(\"ROC AUC:\", roc_auc)\n",
    "\n",
    "# Feature importances\n",
    "importances = pd.Series(best_model.feature_importances_, index=X_bal.columns).sort_values(ascending=False).head(20)\n",
    "importances.plot(kind='barh')\n",
    "plt.title(\"Top 20 Feature Importances (Random Forest + SMOTE)\")\n",
    "plt.gca().invert_yaxis()\n",
    "plt.tight_layout()\n",
    "plt.show()\n"
   ]
  },
  {
   "cell_type": "code",
   "execution_count": null,
   "id": "66061ee9",
   "metadata": {},
   "outputs": [],
   "source": []
  }
 ],
 "metadata": {
  "kernelspec": {
   "display_name": "Python 3 (ipykernel)",
   "language": "python",
   "name": "python3"
  },
  "language_info": {
   "codemirror_mode": {
    "name": "ipython",
    "version": 3
   },
   "file_extension": ".py",
   "mimetype": "text/x-python",
   "name": "python",
   "nbconvert_exporter": "python",
   "pygments_lexer": "ipython3",
   "version": "3.9.7"
  }
 },
 "nbformat": 4,
 "nbformat_minor": 5
}
