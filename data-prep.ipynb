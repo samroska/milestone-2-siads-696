{
 "cells": [
  {
   "cell_type": "code",
   "execution_count": 28,
   "id": "ee6c63e3",
   "metadata": {},
   "outputs": [],
   "source": [
    "import pandas as pd\n",
    "import numpy as np\n",
    "import json\n",
    "from data_columns import all"
   ]
  },
  {
   "cell_type": "code",
   "execution_count": 29,
   "id": "37da66a2",
   "metadata": {},
   "outputs": [
    {
     "data": {
      "text/plain": [
       "(5001, 1000)"
      ]
     },
     "execution_count": 29,
     "metadata": {},
     "output_type": "execute_result"
    }
   ],
   "source": [
    "df = pd.read_csv('./data/mental-health-comorbidity-raw.csv')\n",
    "df.shape"
   ]
  },
  {
   "cell_type": "code",
   "execution_count": 30,
   "id": "39428f18",
   "metadata": {},
   "outputs": [
    {
     "data": {
      "text/plain": [
       "(4959, 143)"
      ]
     },
     "execution_count": 30,
     "metadata": {},
     "output_type": "execute_result"
    }
   ],
   "source": [
    "demo_df = df[all()].copy()\n",
    "demo_df = demo_df.replace(-9, np.nan)\n",
    "demo_df = demo_df.dropna()\n",
    "demo_df.shape"
   ]
  },
  {
   "cell_type": "code",
   "execution_count": 31,
   "id": "7007d297",
   "metadata": {},
   "outputs": [],
   "source": [
    "df.to_csv('./data/mental_health_dataframe.csv', index=False)"
   ]
  }
 ],
 "metadata": {
  "kernelspec": {
   "display_name": ".venv",
   "language": "python",
   "name": "python3"
  },
  "language_info": {
   "codemirror_mode": {
    "name": "ipython",
    "version": 3
   },
   "file_extension": ".py",
   "mimetype": "text/x-python",
   "name": "python",
   "nbconvert_exporter": "python",
   "pygments_lexer": "ipython3",
   "version": "3.13.3"
  }
 },
 "nbformat": 4,
 "nbformat_minor": 5
}
