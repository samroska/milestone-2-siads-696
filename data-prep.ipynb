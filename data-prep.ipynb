{
 "cells": [
  {
   "cell_type": "code",
   "execution_count": 7,
   "id": "ee6c63e3",
   "metadata": {},
   "outputs": [],
   "source": [
    "import pandas as pd\n",
    "import numpy as np\n",
    "import json"
   ]
  },
  {
   "cell_type": "code",
   "execution_count": 2,
   "id": "37da66a2",
   "metadata": {},
   "outputs": [
    {
     "data": {
      "text/plain": [
       "(5001, 1000)"
      ]
     },
     "execution_count": 2,
     "metadata": {},
     "output_type": "execute_result"
    }
   ],
   "source": [
    "df = pd.read_csv('./data/mental-health-comorbidity-raw.csv')\n",
    "df.shape"
   ]
  },
  {
   "cell_type": "code",
   "execution_count": 14,
   "id": "3fad9f7a",
   "metadata": {},
   "outputs": [
    {
     "name": "stdout",
     "output_type": "stream",
     "text": [
      "{'childhood_columns': ['CH1', 'CH1A', 'CH9', 'CH9A', 'CH13', 'CH14', 'CH16', 'CH21', 'CH22', 'CH24', 'CH37A', 'CH37B', 'CH37C', 'CH37D', 'CH37E', 'CH38', 'CH38_1', 'CH39', 'CH42', 'CH43', 'CH44', 'CH45', 'CH46', 'CH47_1', 'CH47_2', 'CH47_3', 'CH47_4', 'CH52', 'CH52A', 'CH60', 'CH60A', 'CH61', 'CH61A', 'CH62', 'CH74', 'CH74_1', 'CH74_2', 'CH74_2A', 'CH74_2B', 'CH74_2C', 'CH74_2D', 'CH74_2E', 'CH74_2F', 'CH75', 'CH76', 'CH76_1', 'CH76_2', 'CH76_3', 'CH76_4', 'CH81', 'CH81A', 'CH89', 'CH89A', 'CH90', 'CH90A', 'CH91', 'CH103', 'CH104', 'CH105', 'CH105A', 'CH105B', 'CH105C', 'CH105D', 'CH105E', 'CH105F'], 'childhood_numerical_col': ['CH13', 'CH14', 'CH16', 'CH21', 'CH22', 'CH24', 'CH38', 'CH43', 'CH45'], 'demographic_columns': ['RESPID', 'REGION', 'HHSIZE', 'RESEX', 'AGE', 'AGECAT', 'AGE18_34', 'AGE35_49', 'AGE50_64', 'AGE65', 'EDUCAT', 'EDU0_11', 'EDU12', 'EDU13_15', 'EDU16', 'MARCAT', 'MAR_COH', 'MAR_SWD', 'MAR_NEV', 'EMPCAT', 'EMP_WORK', 'EMP_STU', 'EMP_HM', 'EMP_RET', 'EMP_OTH', 'PEREARN2', 'SPEARN2', 'OTHINC2', 'HHINCOME2', 'INCPERCAP2', 'INCWMH2', 'INC_CAT', 'INC_LO', 'INC_LOAVG', 'INC_HIAVG', 'INC_HI'], 'demographic_numerical_col': ['HHSIZE', 'AGE', 'RESPID'], 'dianosis_cloumns': ['DSM_ADD', 'DSM_AGO', 'DSM_AGOWO', 'DSM_ALA', 'DSM_ALAH', 'DSM_ALD', 'DSM_ASP', 'DSM_ASA', 'DSM_BIPO1', 'DSM_BIPO2', 'DSM_BOR', 'DSM_CON', 'DSM_DRA', 'DSM_DRAH', 'DSM_DRD', 'DSM_DYS', 'DSM_DYSH', 'DSM_GAD', 'DSM_GADH', 'DSM_HYP', 'DSM_IED', 'DSM_IEDH', 'DSM_IMJ', 'DSM_IMN', 'DSM_MAN', 'DSM_MJD', 'DSM_MJDH', 'DSM_MND', 'DSM_MNDH', 'DSM_ODD', 'DSM_ODDH', 'DSM_PAT', 'DSM_PD', 'DSM_PD_AGO', 'DSM_PD_WOAGO', 'DSM_PEA', 'DSM_PEC', 'DSM_PMS', 'DSM_PTSD', 'DSM_SAD', 'DSM_SO', 'DSM_SP', 'DSM_TBD']}\n"
     ]
    }
   ],
   "source": [
    "columns_dict = {}\n",
    "with open('./data/columns.json', 'r') as file:\n",
    "    columns_dict = json.load(file)\n",
    "print(columns_dict)"
   ]
  },
  {
   "cell_type": "code",
   "execution_count": 17,
   "id": "058ecd28",
   "metadata": {},
   "outputs": [],
   "source": [
    "columns = columns_dict['childhood_columns'] + columns_dict['demographic_columns'] + columns_dict['dianosis_cloumns']"
   ]
  },
  {
   "cell_type": "code",
   "execution_count": 18,
   "id": "39428f18",
   "metadata": {},
   "outputs": [
    {
     "data": {
      "text/plain": [
       "(4959, 144)"
      ]
     },
     "execution_count": 18,
     "metadata": {},
     "output_type": "execute_result"
    }
   ],
   "source": [
    "demo_df = df[columns].copy()\n",
    "demo_df = demo_df.replace(-9, np.nan)\n",
    "demo_df = demo_df.dropna()\n",
    "demo_df.shape"
   ]
  },
  {
   "cell_type": "code",
   "execution_count": 19,
   "id": "81729d73",
   "metadata": {},
   "outputs": [
    {
     "name": "stdout",
     "output_type": "stream",
     "text": [
      "<class 'pandas.core.frame.DataFrame'>\n",
      "Index: 4959 entries, 0 to 5000\n",
      "Columns: 144 entries, CH1 to DSM_TBD\n",
      "dtypes: category(132), float64(9), int64(3)\n",
      "memory usage: 1.1 MB\n"
     ]
    }
   ],
   "source": [
    "num_columns = columns_dict['childhood_numerical_col'] + columns_dict['demographic_numerical_col']\n",
    "cat_columns = [col for col in columns if col not in num_columns]\n",
    "demo_df[cat_columns] = demo_df[cat_columns].astype('category')\n",
    "demo_df.info()"
   ]
  },
  {
   "cell_type": "code",
   "execution_count": 20,
   "id": "7007d297",
   "metadata": {},
   "outputs": [],
   "source": [
    "df.to_csv('./data/menntal_health_dataframe.csv', index=False)"
   ]
  }
 ],
 "metadata": {
  "kernelspec": {
   "display_name": ".venv",
   "language": "python",
   "name": "python3"
  },
  "language_info": {
   "codemirror_mode": {
    "name": "ipython",
    "version": 3
   },
   "file_extension": ".py",
   "mimetype": "text/x-python",
   "name": "python",
   "nbconvert_exporter": "python",
   "pygments_lexer": "ipython3",
   "version": "3.13.3"
  }
 },
 "nbformat": 4,
 "nbformat_minor": 5
}
