{
 "cells": [
  {
   "cell_type": "code",
   "execution_count": 5,
   "id": "ee6c63e3",
   "metadata": {},
   "outputs": [],
   "source": [
    "import pandas as pd\n",
    "import numpy as np\n",
    "import json\n",
    "from data_columns import all"
   ]
  },
  {
   "cell_type": "code",
   "execution_count": 6,
   "id": "37da66a2",
   "metadata": {},
   "outputs": [
    {
     "data": {
      "text/plain": [
       "(5001, 1000)"
      ]
     },
     "execution_count": 6,
     "metadata": {},
     "output_type": "execute_result"
    }
   ],
   "source": [
    "df = pd.read_csv('./data/mental-health-comorbidity-raw.csv')\n",
    "df.shape"
   ]
  },
  {
   "cell_type": "code",
   "execution_count": 16,
   "id": "39428f18",
   "metadata": {},
   "outputs": [
    {
     "data": {
      "text/plain": [
       "(5001, 122)"
      ]
     },
     "execution_count": 16,
     "metadata": {},
     "output_type": "execute_result"
    }
   ],
   "source": [
    "# -9 , -8 , -7 , -6 , -5 , -4\n",
    "\n",
    "demo_df = df[all()].copy()\n",
    "demo_df = demo_df.replace(-9, np.nan)\n",
    "# demo_df = demo_df.replace(-8, np.nan)\n",
    "# demo_df = demo_df.replace(-7, np.nan)\n",
    "# demo_df = demo_df.replace(-6, np.nan)\n",
    "# demo_df = demo_df.replace(-5, np.nan)\n",
    "# demo_df = demo_df.replace(-4, np.nan)\n",
    "# demo_df = demo_df.dropna()\n",
    "demo_df.shape"
   ]
  },
  {
   "cell_type": "code",
   "execution_count": 17,
   "id": "7007d297",
   "metadata": {},
   "outputs": [],
   "source": [
    "demo_df.to_csv('./data/mental_health_dataframe.csv', index=False)"
   ]
  }
 ],
 "metadata": {
  "kernelspec": {
   "display_name": ".venv",
   "language": "python",
   "name": "python3"
  },
  "language_info": {
   "codemirror_mode": {
    "name": "ipython",
    "version": 3
   },
   "file_extension": ".py",
   "mimetype": "text/x-python",
   "name": "python",
   "nbconvert_exporter": "python",
   "pygments_lexer": "ipython3",
   "version": "3.13.3"
  }
 },
 "nbformat": 4,
 "nbformat_minor": 5
}
