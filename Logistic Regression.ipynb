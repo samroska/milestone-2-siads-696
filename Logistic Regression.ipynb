{
 "cells": [
  {
   "cell_type": "code",
   "execution_count": 1,
   "id": "94ae5a07",
   "metadata": {},
   "outputs": [],
   "source": [
    "#This notebook was created with the help of ChatGPT\n",
    "import pandas as pd\n",
    "from sklearn.model_selection import train_test_split, GridSearchCV\n",
    "from sklearn.linear_model import LogisticRegression\n",
    "from sklearn.pipeline import Pipeline\n",
    "from sklearn.preprocessing import StandardScaler\n",
    "from sklearn.metrics import classification_report, roc_auc_score\n",
    "from sklearn.impute import SimpleImputer\n",
    "from sklearn.model_selection import cross_val_score\n",
    "import numpy as np\n"
   ]
  },
  {
   "cell_type": "code",
   "execution_count": 2,
   "id": "b0874463",
   "metadata": {},
   "outputs": [],
   "source": [
    "# Load dataset\n",
    "filtered_df = pd.read_csv('filtered_mental_health_data.csv')"
   ]
  },
  {
   "cell_type": "code",
   "execution_count": 3,
   "id": "ab6f0b06",
   "metadata": {},
   "outputs": [],
   "source": [
    "#Features and Target\n",
    "feature_columns = [col for col in filtered_df.columns if not col.startswith('DSM')]\n",
    "X = filtered_df[feature_columns]\n",
    "y = filtered_df['DSM_MJD'].apply(lambda x: 1 if x == 1 else 0)"
   ]
  },
  {
   "cell_type": "code",
   "execution_count": 4,
   "id": "2b128475",
   "metadata": {},
   "outputs": [],
   "source": [
    "# Split dataset\n",
    "X_train, X_test, y_train, y_test = train_test_split(X, y, test_size=0.2, random_state=42, stratify=y)"
   ]
  },
  {
   "cell_type": "code",
   "execution_count": 7,
   "id": "d67618d8",
   "metadata": {},
   "outputs": [],
   "source": [
    "# Pipeline\n",
    "pipeline = Pipeline([\n",
    "    ('imputer', SimpleImputer(strategy='most_frequent')),  \n",
    "    ('logreg', LogisticRegression(solver='liblinear', random_state=42))])"
   ]
  },
  {
   "cell_type": "code",
   "execution_count": 8,
   "id": "b17cbcac",
   "metadata": {},
   "outputs": [
    {
     "name": "stdout",
     "output_type": "stream",
     "text": [
      "Fitting 5 folds for each of 10 candidates, totalling 50 fits\n",
      "Best Hyperparameters: {'logreg__C': 0.01, 'logreg__penalty': 'l1'}\n",
      "Best CV ROC-AUC Score: 0.7867985581687418\n"
     ]
    }
   ],
   "source": [
    "# Hyperparameter tuning\n",
    "param_grid = {\n",
    "    'logreg__C': [0.01, 0.1, 1, 10, 100],\n",
    "    'logreg__penalty': ['l1', 'l2']\n",
    "}\n",
    "\n",
    "grid_search = GridSearchCV(pipeline, param_grid, cv=5, scoring='roc_auc', n_jobs=-1, verbose=1)\n",
    "grid_search.fit(X_train, y_train)\n",
    "\n",
    "print(\"Best Hyperparameters:\", grid_search.best_params_)\n",
    "print(\"Best CV ROC-AUC Score:\", grid_search.best_score_)\n"
   ]
  },
  {
   "cell_type": "code",
   "execution_count": 9,
   "id": "31a21f6e",
   "metadata": {},
   "outputs": [],
   "source": [
    "#Testset\n",
    "y_pred = grid_search.predict(X_test)\n",
    "y_pred_proba = grid_search.predict_proba(X_test)[:, 1]"
   ]
  },
  {
   "cell_type": "code",
   "execution_count": 10,
   "id": "5008118e",
   "metadata": {},
   "outputs": [
    {
     "name": "stdout",
     "output_type": "stream",
     "text": [
      "\n",
      "Classification Report:\n",
      "               precision    recall  f1-score   support\n",
      "\n",
      "           0       0.83      0.97      0.89       802\n",
      "           1       0.56      0.18      0.27       199\n",
      "\n",
      "    accuracy                           0.81      1001\n",
      "   macro avg       0.69      0.57      0.58      1001\n",
      "weighted avg       0.77      0.81      0.77      1001\n",
      "\n",
      "Test ROC-AUC: 0.7482 ± 0.0289\n",
      "Test Accuracy: 0.8082 ± 0.0084\n"
     ]
    }
   ],
   "source": [
    "#Metrics\n",
    "roc_auc_scores = cross_val_score(\n",
    "    grid_search.best_estimator_, X_test, y_test,\n",
    "    cv=5, scoring='roc_auc'\n",
    ")\n",
    "\n",
    "\n",
    "accuracy_scores = cross_val_score(\n",
    "    grid_search.best_estimator_, X_test, y_test,\n",
    "    cv=5, scoring='accuracy'\n",
    ")\n",
    "\n",
    "roc_auc_mean = np.mean(roc_auc_scores)\n",
    "roc_auc_std = np.std(roc_auc_scores)\n",
    "\n",
    "accuracy_mean = np.mean(accuracy_scores)\n",
    "accuracy_std = np.std(accuracy_scores)\n",
    "\n",
    "print(\"\\nClassification Report:\\n\", classification_report(y_test, y_pred))\n",
    "\n",
    "print(f\"Test ROC-AUC: {roc_auc_mean:.4f} ± {roc_auc_std:.4f}\")\n",
    "print(f\"Test Accuracy: {accuracy_mean:.4f} ± {accuracy_std:.4f}\")"
   ]
  },
  {
   "cell_type": "code",
   "execution_count": null,
   "id": "8f7c4a1d",
   "metadata": {},
   "outputs": [],
   "source": []
  }
 ],
 "metadata": {
  "kernelspec": {
   "display_name": "Python 3 (ipykernel)",
   "language": "python",
   "name": "python3"
  },
  "language_info": {
   "codemirror_mode": {
    "name": "ipython",
    "version": 3
   },
   "file_extension": ".py",
   "mimetype": "text/x-python",
   "name": "python",
   "nbconvert_exporter": "python",
   "pygments_lexer": "ipython3",
   "version": "3.9.7"
  }
 },
 "nbformat": 4,
 "nbformat_minor": 5
}
