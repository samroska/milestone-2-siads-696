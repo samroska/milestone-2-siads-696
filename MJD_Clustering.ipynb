{
 "cells": [
  {
   "cell_type": "code",
   "execution_count": null,
   "id": "1bca0926",
   "metadata": {},
   "outputs": [
    {
     "name": "stderr",
     "output_type": "stream",
     "text": [
      "/Users/nial/Desktop/Github_Repo/milestone-2-siads-696/venv/lib/python3.10/site-packages/tqdm/auto.py:21: TqdmWarning: IProgress not found. Please update jupyter and ipywidgets. See https://ipywidgets.readthedocs.io/en/stable/user_install.html\n",
      "  from .autonotebook import tqdm as notebook_tqdm\n"
     ]
    }
   ],
   "source": [
    "import pandas as pd\n",
    "import numpy as np\n",
    "from data_columns import childhood, demographic, diagnosis, all\n",
    "import seaborn as sns\n",
    "import matplotlib.pyplot as plt\n",
    "from collections import defaultdict\n",
    "from sklearn.preprocessing import StandardScaler\n",
    "from sklearn.cluster import KMeans\n",
    "from sklearn.metrics import adjusted_rand_score, normalized_mutual_info_score\n",
    "from sklearn.decomposition import PCA\n",
    "import umap"
   ]
  },
  {
   "cell_type": "code",
   "execution_count": null,
   "id": "c7dd003a",
   "metadata": {},
   "outputs": [],
   "source": [
    "df = pd.read_csv('./data/mental-health-comorbidity-raw.csv')"
   ]
  },
  {
   "cell_type": "code",
   "execution_count": null,
   "id": "8bcdb7dd",
   "metadata": {},
   "outputs": [],
   "source": [
    "value_groups = defaultdict(list)\n",
    "\n",
    "for col in diagnosis():\n",
    "    if col in df.columns:\n",
    "        unique_vals = frozenset(df[col].dropna().unique())\n",
    "        value_groups[unique_vals].append(col)"
   ]
  },
  {
   "cell_type": "code",
   "execution_count": null,
   "id": "3a90c4ed",
   "metadata": {},
   "outputs": [
    {
     "name": "stdout",
     "output_type": "stream",
     "text": [
      "\n",
      "🔷 Diagnosis columns with value set [1, 5]:\n",
      "  - DSM_ADD\n",
      "  - DSM_AGO\n",
      "  - DSM_AGOWO\n",
      "  - DSM_ALA\n",
      "  - DSM_ALAH\n",
      "  - DSM_ALD\n",
      "  - DSM_ASA\n",
      "  - DSM_BIPO1\n",
      "  - DSM_BIPO2\n",
      "  - DSM_CON\n",
      "  - DSM_DRA\n",
      "  - DSM_DRAH\n",
      "  - DSM_DRD\n",
      "  - DSM_DYS\n",
      "  - DSM_DYSH\n",
      "  - DSM_GAD\n",
      "  - DSM_GADH\n",
      "  - DSM_HYP\n",
      "  - DSM_IED\n",
      "  - DSM_IEDH\n",
      "  - DSM_IMJ\n",
      "  - DSM_IMN\n",
      "  - DSM_MAN\n",
      "  - DSM_MJD\n",
      "  - DSM_MJDH\n",
      "  - DSM_MND\n",
      "  - DSM_MNDH\n",
      "  - DSM_ODD\n",
      "  - DSM_ODDH\n",
      "  - DSM_PAT\n",
      "  - DSM_PD\n",
      "  - DSM_PD_AGO\n",
      "  - DSM_PD_WOAGO\n",
      "  - DSM_PMS\n",
      "  - DSM_PTSD\n",
      "  - DSM_SAD\n",
      "  - DSM_SO\n",
      "  - DSM_SP\n",
      "  - DSM_TBD\n"
     ]
    }
   ],
   "source": [
    "print(\"\\n🔷 Diagnosis columns with value set [1, 5]:\")\n",
    "one_five_cols = []\n",
    "for unique_vals, cols in value_groups.items():\n",
    "    if unique_vals == frozenset([1, 5]):\n",
    "        one_five_cols.extend(cols)\n",
    "        for col in cols:\n",
    "            print(f\"  - {col}\")"
   ]
  },
  {
   "cell_type": "code",
   "execution_count": null,
   "id": "5b19e685",
   "metadata": {},
   "outputs": [
    {
     "name": "stdout",
     "output_type": "stream",
     "text": [
      "\n",
      "🔶 Diagnosis columns with value set [0, 1, 2] or similar:\n",
      "  - DSM_ASP\n",
      "  - DSM_BOR\n",
      "  - DSM_PEA\n",
      "  - DSM_PEC\n"
     ]
    }
   ],
   "source": [
    "print(\"\\n🔶 Diagnosis columns with value set [0, 1, 2] or similar:\")\n",
    "zero_one_two_cols = []\n",
    "for unique_vals, cols in value_groups.items():\n",
    "    if unique_vals == frozenset([0, 1, 2]) or (unique_vals.issuperset({1, 2}) and 0 in unique_vals):\n",
    "        zero_one_two_cols.extend(cols)\n",
    "        for col in cols:\n",
    "            print(f\"  - {col}\")"
   ]
  },
  {
   "cell_type": "code",
   "execution_count": null,
   "id": "95c65d48",
   "metadata": {},
   "outputs": [],
   "source": [
    "one_five_counts = {col: (df[col] == 1).sum() for col in one_five_cols}\n",
    "zero_one_two_counts = {col: ((df[col] == 1) | (df[col] == 2)).sum() for col in zero_one_two_cols}\n",
    "\n",
    "top_1_5 = sorted(one_five_counts.items(), key=lambda x: x[1], reverse=True)[:10]\n",
    "top_0_1_2 = sorted(zero_one_two_counts.items(), key=lambda x: x[1], reverse=True)[:10]\n"
   ]
  },
  {
   "cell_type": "code",
   "execution_count": null,
   "id": "2b9cb4bd",
   "metadata": {},
   "outputs": [],
   "source": [
    "combined_top = []\n",
    "\n",
    "for col, count in top_1_5:\n",
    "    combined_top.append((col, \"1/5\", count))\n",
    "\n",
    "for col, count in top_0_1_2:\n",
    "    combined_top.append((col, \"0/1/2\", count))\n",
    "\n",
    "combined_top_sorted = sorted(combined_top, key=lambda x: x[2], reverse=True)\n"
   ]
  },
  {
   "cell_type": "code",
   "execution_count": null,
   "id": "94e27eb6",
   "metadata": {},
   "outputs": [
    {
     "name": "stdout",
     "output_type": "stream",
     "text": [
      "\n",
      "✅ Top 10 Diagnosis Fields (Sorted by Count):\n",
      "DSM_ASP                        | Type: 0/1/2  | Count: 4085\n",
      "DSM_PEA                        | Type: 0/1/2  | Count: 3309\n",
      "DSM_BOR                        | Type: 0/1/2  | Count: 3041\n",
      "DSM_PEC                        | Type: 0/1/2  | Count: 2724\n",
      "DSM_TBD                        | Type: 1/5    | Count: 1726\n",
      "DSM_PAT                        | Type: 1/5    | Count: 1401\n",
      "DSM_ALA                        | Type: 1/5    | Count: 1212\n",
      "DSM_MJD                        | Type: 1/5    | Count: 995\n",
      "DSM_ALAH                       | Type: 1/5    | Count: 960\n",
      "DSM_SO                         | Type: 1/5    | Count: 808\n",
      "DSM_MJDH                       | Type: 1/5    | Count: 804\n",
      "DSM_SP                         | Type: 1/5    | Count: 762\n",
      "DSM_IED                        | Type: 1/5    | Count: 500\n",
      "DSM_GAD                        | Type: 1/5    | Count: 472\n"
     ]
    }
   ],
   "source": [
    "print(\"\\n✅ Top 10 Diagnosis Fields (Sorted by Count):\")\n",
    "for col, coding, count in combined_top_sorted:\n",
    "    print(f\"{col:<30} | Type: {coding:<6} | Count: {count}\")\n"
   ]
  },
  {
   "cell_type": "code",
   "execution_count": null,
   "id": "9325f334",
   "metadata": {},
   "outputs": [],
   "source": [
    "#-9,-7 remove\n",
    "#-6 refuse keep, -8 dont know maybe keep?\n",
    "def get_filtered_features_for_diagnosis(df, diagnosis_col, positive_values, min_presence=0.3, columns_to_remove=None):\n",
    "    if isinstance(positive_values, int):\n",
    "        positive_values = [positive_values]\n",
    "    if columns_to_remove is None:\n",
    "        columns_to_remove = []\n",
    "\n",
    "    diagnosed_df = df[df[diagnosis_col].isin(positive_values)].copy()\n",
    "    print(f\"[Subset] {diagnosed_df.shape[0]} rows match {diagnosis_col} ∈ {positive_values}\")\n",
    "\n",
    "    diagnosed_df.drop(columns=[col for col in columns_to_remove if col in diagnosed_df.columns], inplace=True)\n",
    "\n",
    "    numeric_df = diagnosed_df.select_dtypes(include=['int64', 'float64'])\n",
    "\n",
    "    valid_cols = [\n",
    "        col for col in numeric_df.columns\n",
    "        if (numeric_df[col] >= 0).mean() >= min_presence\n",
    "    ]\n",
    "\n",
    "    final_df = numeric_df[valid_cols]\n",
    "    print(f\"[Filter] {len(valid_cols)} features retained with ≥ {min_presence*100:.0f}% non-negative values\")\n",
    "    return final_df, valid_cols"
   ]
  },
  {
   "cell_type": "code",
   "execution_count": null,
   "id": "db77c4ed",
   "metadata": {},
   "outputs": [
    {
     "name": "stdout",
     "output_type": "stream",
     "text": [
      "[Subset] 995 rows match DSM_MJD ∈ [1]\n",
      "[Filter] 356 features retained with ≥ 40% non-negative values\n"
     ]
    }
   ],
   "source": [
    "admin_cols = ['RESPID', 'NCS1YR', 'AGE', 'STR', 'CASEID', 'COMPLETE', 'SECU', 'CASEWGT']\n",
    "checkpoint_cols = ['M5A', 'IR3', 'IR11_4', 'IR36', 'IR47', 'PD0A', 'PD2', 'PD5', 'PD14', 'PD20', 'PD23', 'AG2', 'AG7', 'AG10', \n",
    "                   'FD4_1', 'FD6', 'FD7_1', 'FD9_1', 'PR1', 'PR11_1', 'PR15', 'FN1', 'FN4', 'FN24', 'CN1_2', 'CN4', 'CN4_1',\n",
    "                   'CN7_1', 'CN7_2', 'CN8', 'CN14', 'DA36_2B', 'DA36_3A_1', 'DE20_3', 'DE20_6', 'CH23', 'CH38_1', 'CH74_1',\n",
    "                   'CH104', 'AD0', 'AD2', 'AD7', 'AD29', 'AD31', 'AD36', 'AD43_2', 'OD2', 'OD27', 'CD3', 'CD17_1', 'CD24', 'SA1E_1',\n",
    "                   'SA2', 'SA3', 'SA7A1', 'SA10', 'SA11E_1', 'SA12', 'SA18_5']\n",
    "cols_to_remove = admin_cols + checkpoint_cols \n",
    "\n",
    "filtered_features, retained_cols = get_filtered_features_for_diagnosis(\n",
    "    df=df,\n",
    "    diagnosis_col='DSM_MJD',\n",
    "    positive_values=1,\n",
    "    min_presence=0.4,\n",
    "    columns_to_remove= cols_to_remove  \n",
    ")"
   ]
  },
  {
   "cell_type": "code",
   "execution_count": null,
   "id": "b07c0f41",
   "metadata": {},
   "outputs": [],
   "source": [
    "def run_umap_clustering(df, n_clusters=3, n_components=2, random_state=42):\n",
    "    reducer = umap.UMAP(n_components=n_components, random_state=random_state)\n",
    "    X_embedded = reducer.fit_transform(df)\n",
    "\n",
    "    kmeans = KMeans(n_clusters=n_clusters, random_state=random_state, n_init='auto')\n",
    "    labels = kmeans.fit_predict(X_embedded)\n",
    "\n",
    "    if n_components == 2:\n",
    "        plt.figure(figsize=(8, 6))\n",
    "        scatter = plt.scatter(X_embedded[:, 0], X_embedded[:, 1], c=labels, cmap='tab10', alpha=0.7)\n",
    "        plt.title(\"UMAP Projection with Cluster Labels\")\n",
    "        plt.xlabel(\"UMAP 1\")\n",
    "        plt.ylabel(\"UMAP 2\")\n",
    "        plt.colorbar(scatter, label=\"Cluster ID\")\n",
    "        plt.grid(True)\n",
    "        plt.show()\n",
    "\n",
    "    return X_embedded, labels"
   ]
  },
  {
   "cell_type": "code",
   "execution_count": null,
   "id": "829ccc60",
   "metadata": {},
   "outputs": [
    {
     "name": "stderr",
     "output_type": "stream",
     "text": [
      "/Users/nial/Desktop/Github_Repo/milestone-2-siads-696/venv/lib/python3.10/site-packages/sklearn/utils/deprecation.py:151: FutureWarning: 'force_all_finite' was renamed to 'ensure_all_finite' in 1.6 and will be removed in 1.8.\n",
      "  warnings.warn(\n",
      "/Users/nial/Desktop/Github_Repo/milestone-2-siads-696/venv/lib/python3.10/site-packages/umap/umap_.py:1952: UserWarning: n_jobs value 1 overridden to 1 by setting random_state. Use no seed for parallelism.\n",
      "  warn(\n"
     ]
    },
    {
     "data": {
      "image/png": "[encoded data removed]",
      "text/plain": [
       "<Figure size 800x600 with 2 Axes>"
      ]
     },
     "metadata": {},
     "output_type": "display_data"
    }
   ],
   "source": [
    "X_umap, cluster_labels = run_umap_clustering(filtered_features, n_clusters=3)"
   ]
  },
  {
   "cell_type": "code",
   "execution_count": null,
   "id": "e0aa3632",
   "metadata": {},
   "outputs": [],
   "source": [
    "def describe_clusters(df_with_labels, cluster_col='cluster', top_n=20):\n",
    "    cluster_summary = df_with_labels.groupby(cluster_col).mean()\n",
    "\n",
    "    for cluster_id in cluster_summary.index:\n",
    "        print(f\"\\n🔍 Top traits in cluster {cluster_id}:\")\n",
    "        print(cluster_summary.loc[cluster_id].sort_values(ascending=False).head(top_n))\n",
    "\n",
    "    return cluster_summary"
   ]
  },
  {
   "cell_type": "code",
   "execution_count": null,
   "id": "f1eb3b4d",
   "metadata": {},
   "outputs": [
    {
     "name": "stdout",
     "output_type": "stream",
     "text": [
      "\n",
      "🔍 Top traits in cluster 0:\n",
      "PD4         53.885455\n",
      "PD18        52.500000\n",
      "PR4C        20.234545\n",
      "PR4A        17.783636\n",
      "CH21        17.223636\n",
      "CN3         16.761818\n",
      "DA40        16.076364\n",
      "FN13        14.287273\n",
      "CH13        14.052727\n",
      "DE20        13.583636\n",
      "DA42        12.650909\n",
      "PR2         11.901818\n",
      "FN5         10.058182\n",
      "CH43         9.845455\n",
      "CH38         8.325455\n",
      "FN2INTR1     7.938182\n",
      "DA38A        5.912727\n",
      "DA38         5.896364\n",
      "DA37         5.512727\n",
      "DA37A        5.318182\n",
      "Name: 0, dtype: float64\n",
      "\n",
      "🔍 Top traits in cluster 1:\n",
      "PD4         985.686275\n",
      "PD19        199.470588\n",
      "PD18        140.098039\n",
      "CH21         16.843137\n",
      "CN3          15.941176\n",
      "CH13         14.509804\n",
      "DA42         13.470588\n",
      "DE20         12.666667\n",
      "PR4C         12.568627\n",
      "DA40         11.843137\n",
      "FN13         11.117647\n",
      "PR4A         10.823529\n",
      "CH43          9.156863\n",
      "FN5           9.019608\n",
      "CH38          8.196078\n",
      "CD9A          7.019608\n",
      "PR2           7.019608\n",
      "FN2INTR1      6.215686\n",
      "DA38          5.176471\n",
      "DA38A         5.137255\n",
      "Name: 1, dtype: float64\n",
      "\n",
      "🔍 Top traits in cluster 2:\n",
      "CH21          18.299492\n",
      "FN13          16.555838\n",
      "CN3           16.213198\n",
      "DA40          15.474619\n",
      "CH13          15.098985\n",
      "DE20          13.560914\n",
      "FN2INTR1      10.616751\n",
      "CH43          10.357868\n",
      "DA42           9.619289\n",
      "CH38           8.101523\n",
      "DA38           5.812183\n",
      "FN5            5.771574\n",
      "DA37           5.736041\n",
      "DA38A          5.527919\n",
      "HHINCOME2      5.350254\n",
      "DSM_MNDH       5.000000\n",
      "DSM_MND        5.000000\n",
      "DA37A          4.954315\n",
      "DSM_PMS        4.949239\n",
      "DSM_PD_AGO     4.918782\n",
      "Name: 2, dtype: float64\n"
     ]
    }
   ],
   "source": [
    "filtered_features['cluster'] = cluster_labels\n",
    "\n",
    "cluster_summary = describe_clusters(filtered_features)"
   ]
  }
 ],
 "metadata": {
  "kernelspec": {
   "display_name": "venv",
   "language": "python",
   "name": "python3"
  },
  "language_info": {
   "codemirror_mode": {
    "name": "ipython",
    "version": 3
   },
   "file_extension": ".py",
   "mimetype": "text/x-python",
   "name": "python",
   "nbconvert_exporter": "python",
   "pygments_lexer": "ipython3",
   "version": "3.10.9"
  }
 },
 "nbformat": 4,
 "nbformat_minor": 5
}
