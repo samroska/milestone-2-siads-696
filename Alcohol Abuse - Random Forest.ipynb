{
 "cells": [
  {
   "cell_type": "code",
   "execution_count": 6,
   "id": "75cebc04",
   "metadata": {},
   "outputs": [
    {
     "name": "stdout",
     "output_type": "stream",
     "text": [
      "Fitting 5 folds for each of 8 candidates, totalling 40 fits\n",
      "Classification Report:\n",
      "              precision    recall  f1-score   support\n",
      "\n",
      "           0       0.82      0.87      0.84       758\n",
      "           1       0.50      0.41      0.45       243\n",
      "\n",
      "    accuracy                           0.76      1001\n",
      "   macro avg       0.66      0.64      0.65      1001\n",
      "weighted avg       0.74      0.76      0.75      1001\n",
      "\n",
      "ROC AUC: 0.7170483294787018\n"
     ]
    },
    {
     "data": {
      "image/png": "[encoded data removed]",
      "text/plain": [
       "<Figure size 432x288 with 1 Axes>"
      ]
     },
     "metadata": {
      "needs_background": "light"
     },
     "output_type": "display_data"
    }
   ],
   "source": [
    "from sklearn.ensemble import RandomForestClassifier\n",
    "from sklearn.model_selection import train_test_split, GridSearchCV\n",
    "from sklearn.impute import SimpleImputer\n",
    "from sklearn.utils import resample\n",
    "from sklearn.metrics import classification_report, confusion_matrix, roc_auc_score\n",
    "import pandas as pd\n",
    "import numpy as np\n",
    "import matplotlib.pyplot as plt\n",
    "import seaborn as sns\n",
    "\n",
    "# Load and prepare data\n",
    "df = pd.read_csv(\"35067-0001-Data.tsv\", sep='\\t')\n",
    "df = df[df[\"DSM_ALA\"].isin([1, 5])].copy()\n",
    "df[\"DSM_ALA_BINARY\"] = df[\"DSM_ALA\"].replace({5: 0, 1: 1})\n",
    "prefixes = ['CH', 'DA', 'DE']\n",
    "demographic_cols = ['AGE', 'SEX', 'MARITAL', 'EDUC', 'EMPSTAT', 'INCOME']\n",
    "core_features = [col for col in df.columns if any(col.startswith(p) for p in prefixes)]\n",
    "available_demos = [col for col in demographic_cols if col in df.columns]\n",
    "features = core_features + available_demos\n",
    "\n",
    "X = df[features]\n",
    "y = df[\"DSM_ALA_BINARY\"]\n",
    "\n",
    "# Impute with most frequent\n",
    "X_imputed = pd.DataFrame(SimpleImputer(strategy=\"most_frequent\").fit_transform(X), columns=X.columns)\n",
    "\n",
    "# Train-test split\n",
    "X_train, X_test, y_train, y_test = train_test_split(X_imputed, y, test_size=0.2, stratify=y, random_state=42)\n",
    "\n",
    "# Oversample minority class\n",
    "train_data = pd.concat([X_train, y_train], axis=1)\n",
    "majority = train_data[train_data[\"DSM_ALA_BINARY\"] == 0]\n",
    "minority = train_data[train_data[\"DSM_ALA_BINARY\"] == 1]\n",
    "minority_upsampled = resample(minority, replace=True, n_samples=len(majority), random_state=42)\n",
    "balanced = pd.concat([majority, minority_upsampled])\n",
    "X_bal = balanced.drop(\"DSM_ALA_BINARY\", axis=1)\n",
    "y_bal = balanced[\"DSM_ALA_BINARY\"]\n",
    "\n",
    "# Grid search on Random Forest\n",
    "param_grid = {\n",
    "    'n_estimators': [100, 200],\n",
    "    'max_depth': [5, 10],\n",
    "    'min_samples_split': [2, 5]\n",
    "}\n",
    "rf = RandomForestClassifier(random_state=42)\n",
    "grid = GridSearchCV(rf, param_grid, cv=5, scoring='f1', n_jobs=-1, verbose=2)\n",
    "grid.fit(X_bal, y_bal)\n",
    "\n",
    "# Evaluate best model\n",
    "best_model = grid.best_estimator_\n",
    "y_pred = best_model.predict(X_test)\n",
    "print(\"Classification Report:\")\n",
    "print(classification_report(y_test, y_pred))\n",
    "print(\"ROC AUC:\", roc_auc_score(y_test, best_model.predict_proba(X_test)[:, 1]))\n",
    "\n",
    "# Feature importances\n",
    "importances = pd.Series(best_model.feature_importances_, index=X_bal.columns).sort_values(ascending=False).head(20)\n",
    "importances.plot(kind='barh')\n",
    "plt.title(\"Top 20 Feature Importances\")\n",
    "plt.gca().invert_yaxis()\n",
    "plt.tight_layout()\n",
    "plt.show()\n"
   ]
  },
  {
   "cell_type": "code",
   "execution_count": null,
   "id": "035d38a5",
   "metadata": {},
   "outputs": [],
   "source": []
  }
 ],
 "metadata": {
  "kernelspec": {
   "display_name": "Python 3 (ipykernel)",
   "language": "python",
   "name": "python3"
  },
  "language_info": {
   "codemirror_mode": {
    "name": "ipython",
    "version": 3
   },
   "file_extension": ".py",
   "mimetype": "text/x-python",
   "name": "python",
   "nbconvert_exporter": "python",
   "pygments_lexer": "ipython3",
   "version": "3.9.7"
  }
 },
 "nbformat": 4,
 "nbformat_minor": 5
}
