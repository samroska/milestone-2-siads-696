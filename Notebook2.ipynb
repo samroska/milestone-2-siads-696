{
 "cells": [
  {
   "cell_type": "markdown",
   "id": "3a826e30",
   "metadata": {},
   "source": [
    "#### SIADS Milestone II"
   ]
  }
 ],
 "metadata": {
  "language_info": {
   "name": "python"
  }
 },
 "nbformat": 4,
 "nbformat_minor": 5
}
